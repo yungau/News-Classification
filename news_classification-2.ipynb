{
  "nbformat": 4,
  "nbformat_minor": 0,
  "metadata": {
    "colab": {
      "name": "news_classification.ipynb",
      "version": "0.3.2",
      "provenance": [],
      "toc_visible": true
    },
    "language_info": {
      "codemirror_mode": {
        "name": "ipython",
        "version": 3
      },
      "file_extension": ".py",
      "mimetype": "text/x-python",
      "name": "python",
      "nbconvert_exporter": "python",
      "pygments_lexer": "ipython3",
      "version": "3.6.6"
    },
    "kernelspec": {
      "name": "python3",
      "display_name": "Python 3"
    },
    "accelerator": "TPU"
  },
  "cells": [
    {
      "cell_type": "code",
      "metadata": {
        "id": "XRAOUYrwSwg1",
        "colab_type": "code",
        "outputId": "7b191cdc-af66-43a8-87ee-d7283132a602",
        "colab": {
          "base_uri": "https://localhost:8080/",
          "height": 34
        }
      },
      "source": [
        "import pandas as pd\n",
        "import tensorflow as tf\n",
        "import re\n",
        "from sklearn.model_selection import train_test_split\n",
        "import numpy as np\n",
        "import os\n",
        "os.getcwd()"
      ],
      "execution_count": 1,
      "outputs": [
        {
          "output_type": "execute_result",
          "data": {
            "text/plain": [
              "'/content'"
            ]
          },
          "metadata": {
            "tags": []
          },
          "execution_count": 1
        }
      ]
    },
    {
      "cell_type": "code",
      "metadata": {
        "id": "dWybidR2Swg8",
        "colab_type": "code",
        "outputId": "c199ffa5-e4c1-42e8-dfa2-d6725601d3d5",
        "colab": {
          "base_uri": "https://localhost:8080/",
          "height": 522
        }
      },
      "source": [
        "from google.colab import drive\n",
        "drive.mount('/content/gdrive')\n",
        "raw_df = pd.read_json('/content/gdrive/My Drive/Colab Notebooks/News_Category_Dataset_v2.json', lines = True)\n",
        "raw_df.tail()"
      ],
      "execution_count": 2,
      "outputs": [
        {
          "output_type": "stream",
          "text": [
            "Go to this URL in a browser: https://accounts.google.com/o/oauth2/auth?client_id=947318989803-6bn6qk8qdgf4n4g3pfee6491hc0brc4i.apps.googleusercontent.com&redirect_uri=urn%3Aietf%3Awg%3Aoauth%3A2.0%3Aoob&scope=email%20https%3A%2F%2Fwww.googleapis.com%2Fauth%2Fdocs.test%20https%3A%2F%2Fwww.googleapis.com%2Fauth%2Fdrive%20https%3A%2F%2Fwww.googleapis.com%2Fauth%2Fdrive.photos.readonly%20https%3A%2F%2Fwww.googleapis.com%2Fauth%2Fpeopleapi.readonly&response_type=code\n",
            "\n",
            "Enter your authorization code:\n",
            "··········\n",
            "Mounted at /content/gdrive\n"
          ],
          "name": "stdout"
        },
        {
          "output_type": "execute_result",
          "data": {
            "text/html": [
              "<div>\n",
              "<style scoped>\n",
              "    .dataframe tbody tr th:only-of-type {\n",
              "        vertical-align: middle;\n",
              "    }\n",
              "\n",
              "    .dataframe tbody tr th {\n",
              "        vertical-align: top;\n",
              "    }\n",
              "\n",
              "    .dataframe thead th {\n",
              "        text-align: right;\n",
              "    }\n",
              "</style>\n",
              "<table border=\"1\" class=\"dataframe\">\n",
              "  <thead>\n",
              "    <tr style=\"text-align: right;\">\n",
              "      <th></th>\n",
              "      <th>authors</th>\n",
              "      <th>category</th>\n",
              "      <th>date</th>\n",
              "      <th>headline</th>\n",
              "      <th>link</th>\n",
              "      <th>short_description</th>\n",
              "    </tr>\n",
              "  </thead>\n",
              "  <tbody>\n",
              "    <tr>\n",
              "      <th>200848</th>\n",
              "      <td>Reuters, Reuters</td>\n",
              "      <td>TECH</td>\n",
              "      <td>2012-01-28</td>\n",
              "      <td>RIM CEO Thorsten Heins' 'Significant' Plans Fo...</td>\n",
              "      <td>https://www.huffingtonpost.com/entry/rim-ceo-t...</td>\n",
              "      <td>Verizon Wireless and AT&amp;T are already promotin...</td>\n",
              "    </tr>\n",
              "    <tr>\n",
              "      <th>200849</th>\n",
              "      <td></td>\n",
              "      <td>SPORTS</td>\n",
              "      <td>2012-01-28</td>\n",
              "      <td>Maria Sharapova Stunned By Victoria Azarenka I...</td>\n",
              "      <td>https://www.huffingtonpost.com/entry/maria-sha...</td>\n",
              "      <td>Afterward, Azarenka, more effusive with the pr...</td>\n",
              "    </tr>\n",
              "    <tr>\n",
              "      <th>200850</th>\n",
              "      <td></td>\n",
              "      <td>SPORTS</td>\n",
              "      <td>2012-01-28</td>\n",
              "      <td>Giants Over Patriots, Jets Over Colts Among  M...</td>\n",
              "      <td>https://www.huffingtonpost.com/entry/super-bow...</td>\n",
              "      <td>Leading up to Super Bowl XLVI, the most talked...</td>\n",
              "    </tr>\n",
              "    <tr>\n",
              "      <th>200851</th>\n",
              "      <td></td>\n",
              "      <td>SPORTS</td>\n",
              "      <td>2012-01-28</td>\n",
              "      <td>Aldon Smith Arrested: 49ers Linebacker Busted ...</td>\n",
              "      <td>https://www.huffingtonpost.com/entry/aldon-smi...</td>\n",
              "      <td>CORRECTION: An earlier version of this story i...</td>\n",
              "    </tr>\n",
              "    <tr>\n",
              "      <th>200852</th>\n",
              "      <td></td>\n",
              "      <td>SPORTS</td>\n",
              "      <td>2012-01-28</td>\n",
              "      <td>Dwight Howard Rips Teammates After Magic Loss ...</td>\n",
              "      <td>https://www.huffingtonpost.com/entry/dwight-ho...</td>\n",
              "      <td>The five-time all-star center tore into his te...</td>\n",
              "    </tr>\n",
              "  </tbody>\n",
              "</table>\n",
              "</div>"
            ],
            "text/plain": [
              "                 authors  ...                                  short_description\n",
              "200848  Reuters, Reuters  ...  Verizon Wireless and AT&T are already promotin...\n",
              "200849                    ...  Afterward, Azarenka, more effusive with the pr...\n",
              "200850                    ...  Leading up to Super Bowl XLVI, the most talked...\n",
              "200851                    ...  CORRECTION: An earlier version of this story i...\n",
              "200852                    ...  The five-time all-star center tore into his te...\n",
              "\n",
              "[5 rows x 6 columns]"
            ]
          },
          "metadata": {
            "tags": []
          },
          "execution_count": 2
        }
      ]
    },
    {
      "cell_type": "code",
      "metadata": {
        "id": "qog7p5NLSwhJ",
        "colab_type": "code",
        "outputId": "68746289-0f52-4d6c-c6e7-8b0ca92315d5",
        "colab": {
          "base_uri": "https://localhost:8080/",
          "height": 34
        }
      },
      "source": [
        "print('Number of categories: ', len(raw_df.category.unique()))"
      ],
      "execution_count": 3,
      "outputs": [
        {
          "output_type": "stream",
          "text": [
            "Number of categories:  41\n"
          ],
          "name": "stdout"
        }
      ]
    },
    {
      "cell_type": "code",
      "metadata": {
        "id": "u2tAMg10SwhQ",
        "colab_type": "code",
        "outputId": "d828aecd-92c7-41d3-911e-8c29a64b2294",
        "colab": {
          "base_uri": "https://localhost:8080/",
          "height": 769
        }
      },
      "source": [
        "pd.value_counts(raw_df.category).plot(figsize=(20,10), kind='bar')"
      ],
      "execution_count": 4,
      "outputs": [
        {
          "output_type": "execute_result",
          "data": {
            "text/plain": [
              "<matplotlib.axes._subplots.AxesSubplot at 0x7f5039dd5d30>"
            ]
          },
          "metadata": {
            "tags": []
          },
          "execution_count": 4
        },
        {
          "output_type": "display_data",
          "data": {
            "image/png": "[encoded data removed]",
            "text/plain": [
              "<Figure size 1440x720 with 1 Axes>"
            ]
          },
          "metadata": {
            "tags": []
          }
        }
      ]
    },
    {
      "cell_type": "code",
      "metadata": {
        "id": "QVmVGGCjSwhY",
        "colab_type": "code",
        "outputId": "c5735b36-48af-4ffe-e095-8f14f3a05229",
        "colab": {
          "base_uri": "https://localhost:8080/",
          "height": 599
        }
      },
      "source": [
        "pd.value_counts(raw_df.category).plot(figsize=(10,10), kind='pie')"
      ],
      "execution_count": 5,
      "outputs": [
        {
          "output_type": "execute_result",
          "data": {
            "text/plain": [
              "<matplotlib.axes._subplots.AxesSubplot at 0x7f5039d2ae10>"
            ]
          },
          "metadata": {
            "tags": []
          },
          "execution_count": 5
        },
        {
          "output_type": "display_data",
          "data": {
            "image/png": "[encoded data removed]",
            "text/plain": [
              "<Figure size 720x720 with 1 Axes>"
            ]
          },
          "metadata": {
            "tags": []
          }
        }
      ]
    },
    {
      "cell_type": "code",
      "metadata": {
        "id": "eiO8TV7pSwhe",
        "colab_type": "code",
        "outputId": "3166e51a-a5de-4bde-a682-3a57563f7bcc",
        "colab": {
          "base_uri": "https://localhost:8080/",
          "height": 34
        }
      },
      "source": [
        "print('Number of rows without short description: ', sum(raw_df.short_description == ''))"
      ],
      "execution_count": 6,
      "outputs": [
        {
          "output_type": "stream",
          "text": [
            "Number of rows without short description:  19712\n"
          ],
          "name": "stdout"
        }
      ]
    },
    {
      "cell_type": "code",
      "metadata": {
        "id": "YD4TQ6kjSwhk",
        "colab_type": "code",
        "outputId": "dff1b957-c7b2-4573-b695-5f6f315fbe17",
        "colab": {
          "base_uri": "https://localhost:8080/",
          "height": 34
        }
      },
      "source": [
        "print('Number of rows without headline: ', sum(raw_df.headline == ''))"
      ],
      "execution_count": 7,
      "outputs": [
        {
          "output_type": "stream",
          "text": [
            "Number of rows without headline:  6\n"
          ],
          "name": "stdout"
        }
      ]
    },
    {
      "cell_type": "code",
      "metadata": {
        "id": "rLr57R-BSwhq",
        "colab_type": "code",
        "outputId": "646a42a0-ddf9-4c72-8765-88a1f10b8f7a",
        "colab": {
          "base_uri": "https://localhost:8080/",
          "height": 34
        }
      },
      "source": [
        "#Only use data contain headline or short description\n",
        "df = raw_df[(raw_df.headline != '') | (raw_df.short_description != '')][['category', 'headline', 'short_description']]\n",
        "#Combine headline and short description\n",
        "df['text'] = df.headline + ' \\n ' + df.short_description\n",
        "df = df[['text', 'category']]\n",
        "print('Size of dataset: ', df.shape)"
      ],
      "execution_count": 8,
      "outputs": [
        {
          "output_type": "stream",
          "text": [
            "Size of dataset:  (200848, 2)\n"
          ],
          "name": "stdout"
        }
      ]
    },
    {
      "cell_type": "code",
      "metadata": {
        "id": "okvksJoBSwhw",
        "colab_type": "code",
        "outputId": "ab6f3e72-4058-4cb9-f4ed-8f65467a7fcc",
        "colab": {
          "base_uri": "https://localhost:8080/",
          "height": 204
        }
      },
      "source": [
        "letters_only = lambda x: re.sub('[^a-zA-Z]', ' ', x)\n",
        "df.text = df.text.apply(letters_only)\n",
        "df.head()"
      ],
      "execution_count": 9,
      "outputs": [
        {
          "output_type": "execute_result",
          "data": {
            "text/html": [
              "<div>\n",
              "<style scoped>\n",
              "    .dataframe tbody tr th:only-of-type {\n",
              "        vertical-align: middle;\n",
              "    }\n",
              "\n",
              "    .dataframe tbody tr th {\n",
              "        vertical-align: top;\n",
              "    }\n",
              "\n",
              "    .dataframe thead th {\n",
              "        text-align: right;\n",
              "    }\n",
              "</style>\n",
              "<table border=\"1\" class=\"dataframe\">\n",
              "  <thead>\n",
              "    <tr style=\"text-align: right;\">\n",
              "      <th></th>\n",
              "      <th>text</th>\n",
              "      <th>category</th>\n",
              "    </tr>\n",
              "  </thead>\n",
              "  <tbody>\n",
              "    <tr>\n",
              "      <th>0</th>\n",
              "      <td>There Were   Mass Shootings In Texas Last Week...</td>\n",
              "      <td>CRIME</td>\n",
              "    </tr>\n",
              "    <tr>\n",
              "      <th>1</th>\n",
              "      <td>Will Smith Joins Diplo And Nicky Jam For The  ...</td>\n",
              "      <td>ENTERTAINMENT</td>\n",
              "    </tr>\n",
              "    <tr>\n",
              "      <th>2</th>\n",
              "      <td>Hugh Grant Marries For The First Time At Age  ...</td>\n",
              "      <td>ENTERTAINMENT</td>\n",
              "    </tr>\n",
              "    <tr>\n",
              "      <th>3</th>\n",
              "      <td>Jim Carrey Blasts  Castrato  Adam Schiff And D...</td>\n",
              "      <td>ENTERTAINMENT</td>\n",
              "    </tr>\n",
              "    <tr>\n",
              "      <th>4</th>\n",
              "      <td>Julianna Margulies Uses Donald Trump Poop Bags...</td>\n",
              "      <td>ENTERTAINMENT</td>\n",
              "    </tr>\n",
              "  </tbody>\n",
              "</table>\n",
              "</div>"
            ],
            "text/plain": [
              "                                                text       category\n",
              "0  There Were   Mass Shootings In Texas Last Week...          CRIME\n",
              "1  Will Smith Joins Diplo And Nicky Jam For The  ...  ENTERTAINMENT\n",
              "2  Hugh Grant Marries For The First Time At Age  ...  ENTERTAINMENT\n",
              "3  Jim Carrey Blasts  Castrato  Adam Schiff And D...  ENTERTAINMENT\n",
              "4  Julianna Margulies Uses Donald Trump Poop Bags...  ENTERTAINMENT"
            ]
          },
          "metadata": {
            "tags": []
          },
          "execution_count": 9
        }
      ]
    },
    {
      "cell_type": "code",
      "metadata": {
        "id": "FG5hZteFSwh3",
        "colab_type": "code",
        "colab": {}
      },
      "source": [
        "tokenizer = tf.keras.preprocessing.text.Tokenizer()\n",
        "tokenizer.fit_on_texts(df.text)\n",
        "df['word_index'] = tokenizer.texts_to_sequences(df.text)"
      ],
      "execution_count": 0,
      "outputs": []
    },
    {
      "cell_type": "code",
      "metadata": {
        "id": "sZUuy3ZPSwh6",
        "colab_type": "code",
        "outputId": "cf6b9df0-d4bf-4206-e07c-1bd2c3cf84e0",
        "colab": {
          "base_uri": "https://localhost:8080/",
          "height": 204
        }
      },
      "source": [
        "df.head()"
      ],
      "execution_count": 11,
      "outputs": [
        {
          "output_type": "execute_result",
          "data": {
            "text/html": [
              "<div>\n",
              "<style scoped>\n",
              "    .dataframe tbody tr th:only-of-type {\n",
              "        vertical-align: middle;\n",
              "    }\n",
              "\n",
              "    .dataframe tbody tr th {\n",
              "        vertical-align: top;\n",
              "    }\n",
              "\n",
              "    .dataframe thead th {\n",
              "        text-align: right;\n",
              "    }\n",
              "</style>\n",
              "<table border=\"1\" class=\"dataframe\">\n",
              "  <thead>\n",
              "    <tr style=\"text-align: right;\">\n",
              "      <th></th>\n",
              "      <th>text</th>\n",
              "      <th>category</th>\n",
              "      <th>word_index</th>\n",
              "    </tr>\n",
              "  </thead>\n",
              "  <tbody>\n",
              "    <tr>\n",
              "      <th>0</th>\n",
              "      <td>There Were   Mass Shootings In Texas Last Week...</td>\n",
              "      <td>CRIME</td>\n",
              "      <td>[60, 106, 1271, 2909, 7, 646, 136, 92, 29, 121...</td>\n",
              "    </tr>\n",
              "    <tr>\n",
              "      <th>1</th>\n",
              "      <td>Will Smith Joins Diplo And Nicky Jam For The  ...</td>\n",
              "      <td>ENTERTAINMENT</td>\n",
              "      <td>[45, 1392, 2910, 22678, 5, 23907, 4951, 9, 1, ...</td>\n",
              "    </tr>\n",
              "    <tr>\n",
              "      <th>2</th>\n",
              "      <td>Hugh Grant Marries For The First Time At Age  ...</td>\n",
              "      <td>ENTERTAINMENT</td>\n",
              "      <td>[5777, 4982, 7722, 9, 1, 81, 56, 23, 401, 1, 8...</td>\n",
              "    </tr>\n",
              "    <tr>\n",
              "      <th>3</th>\n",
              "      <td>Jim Carrey Blasts  Castrato  Adam Schiff And D...</td>\n",
              "      <td>ENTERTAINMENT</td>\n",
              "      <td>[2595, 10635, 3514, 52932, 2230, 12303, 5, 521...</td>\n",
              "    </tr>\n",
              "    <tr>\n",
              "      <th>4</th>\n",
              "      <td>Julianna Margulies Uses Donald Trump Poop Bags...</td>\n",
              "      <td>ENTERTAINMENT</td>\n",
              "      <td>[36118, 29453, 1484, 101, 35, 7339, 3073, 2, 9...</td>\n",
              "    </tr>\n",
              "  </tbody>\n",
              "</table>\n",
              "</div>"
            ],
            "text/plain": [
              "                                                text  ...                                         word_index\n",
              "0  There Were   Mass Shootings In Texas Last Week...  ...  [60, 106, 1271, 2909, 7, 646, 136, 92, 29, 121...\n",
              "1  Will Smith Joins Diplo And Nicky Jam For The  ...  ...  [45, 1392, 2910, 22678, 5, 23907, 4951, 9, 1, ...\n",
              "2  Hugh Grant Marries For The First Time At Age  ...  ...  [5777, 4982, 7722, 9, 1, 81, 56, 23, 401, 1, 8...\n",
              "3  Jim Carrey Blasts  Castrato  Adam Schiff And D...  ...  [2595, 10635, 3514, 52932, 2230, 12303, 5, 521...\n",
              "4  Julianna Margulies Uses Donald Trump Poop Bags...  ...  [36118, 29453, 1484, 101, 35, 7339, 3073, 2, 9...\n",
              "\n",
              "[5 rows x 3 columns]"
            ]
          },
          "metadata": {
            "tags": []
          },
          "execution_count": 11
        }
      ]
    },
    {
      "cell_type": "code",
      "metadata": {
        "id": "jZNuB-xJSwiA",
        "colab_type": "code",
        "colab": {}
      },
      "source": [
        "# from tf.keras.preprocessing.sequence import pad_sequences\n",
        "MAXLEN = 100\n",
        "catg_index = dict(enumerate([i for i in pd.value_counts(df.category).index]))\n",
        "catg_index = {v: k for k,v in catg_index.items()}\n",
        "df['category_index'] = df.category.apply(lambda x: catg_index.get(x))"
      ],
      "execution_count": 0,
      "outputs": []
    },
    {
      "cell_type": "code",
      "metadata": {
        "id": "EkD5O3XhSwiD",
        "colab_type": "code",
        "outputId": "ecda8534-c724-46a0-d8e9-35beae8db574",
        "colab": {
          "base_uri": "https://localhost:8080/",
          "height": 204
        }
      },
      "source": [
        "df.head()"
      ],
      "execution_count": 13,
      "outputs": [
        {
          "output_type": "execute_result",
          "data": {
            "text/html": [
              "<div>\n",
              "<style scoped>\n",
              "    .dataframe tbody tr th:only-of-type {\n",
              "        vertical-align: middle;\n",
              "    }\n",
              "\n",
              "    .dataframe tbody tr th {\n",
              "        vertical-align: top;\n",
              "    }\n",
              "\n",
              "    .dataframe thead th {\n",
              "        text-align: right;\n",
              "    }\n",
              "</style>\n",
              "<table border=\"1\" class=\"dataframe\">\n",
              "  <thead>\n",
              "    <tr style=\"text-align: right;\">\n",
              "      <th></th>\n",
              "      <th>text</th>\n",
              "      <th>category</th>\n",
              "      <th>word_index</th>\n",
              "      <th>category_index</th>\n",
              "    </tr>\n",
              "  </thead>\n",
              "  <tbody>\n",
              "    <tr>\n",
              "      <th>0</th>\n",
              "      <td>There Were   Mass Shootings In Texas Last Week...</td>\n",
              "      <td>CRIME</td>\n",
              "      <td>[60, 106, 1271, 2909, 7, 646, 136, 92, 29, 121...</td>\n",
              "      <td>20</td>\n",
              "    </tr>\n",
              "    <tr>\n",
              "      <th>1</th>\n",
              "      <td>Will Smith Joins Diplo And Nicky Jam For The  ...</td>\n",
              "      <td>ENTERTAINMENT</td>\n",
              "      <td>[45, 1392, 2910, 22678, 5, 23907, 4951, 9, 1, ...</td>\n",
              "      <td>2</td>\n",
              "    </tr>\n",
              "    <tr>\n",
              "      <th>2</th>\n",
              "      <td>Hugh Grant Marries For The First Time At Age  ...</td>\n",
              "      <td>ENTERTAINMENT</td>\n",
              "      <td>[5777, 4982, 7722, 9, 1, 81, 56, 23, 401, 1, 8...</td>\n",
              "      <td>2</td>\n",
              "    </tr>\n",
              "    <tr>\n",
              "      <th>3</th>\n",
              "      <td>Jim Carrey Blasts  Castrato  Adam Schiff And D...</td>\n",
              "      <td>ENTERTAINMENT</td>\n",
              "      <td>[2595, 10635, 3514, 52932, 2230, 12303, 5, 521...</td>\n",
              "      <td>2</td>\n",
              "    </tr>\n",
              "    <tr>\n",
              "      <th>4</th>\n",
              "      <td>Julianna Margulies Uses Donald Trump Poop Bags...</td>\n",
              "      <td>ENTERTAINMENT</td>\n",
              "      <td>[36118, 29453, 1484, 101, 35, 7339, 3073, 2, 9...</td>\n",
              "      <td>2</td>\n",
              "    </tr>\n",
              "  </tbody>\n",
              "</table>\n",
              "</div>"
            ],
            "text/plain": [
              "                                                text  ... category_index\n",
              "0  There Were   Mass Shootings In Texas Last Week...  ...             20\n",
              "1  Will Smith Joins Diplo And Nicky Jam For The  ...  ...              2\n",
              "2  Hugh Grant Marries For The First Time At Age  ...  ...              2\n",
              "3  Jim Carrey Blasts  Castrato  Adam Schiff And D...  ...              2\n",
              "4  Julianna Margulies Uses Donald Trump Poop Bags...  ...              2\n",
              "\n",
              "[5 rows x 4 columns]"
            ]
          },
          "metadata": {
            "tags": []
          },
          "execution_count": 13
        }
      ]
    },
    {
      "cell_type": "code",
      "metadata": {
        "id": "GglKXlgVSwiR",
        "colab_type": "code",
        "colab": {}
      },
      "source": [
        "df_subset = df[df.category_index < 10]"
      ],
      "execution_count": 0,
      "outputs": []
    },
    {
      "cell_type": "code",
      "metadata": {
        "id": "Io7KojbBSwiH",
        "colab_type": "code",
        "colab": {}
      },
      "source": [
        "PADDING = 'pre'\n",
        "TRUNCATING = 'post'\n",
        "def get_sequence(DF, padding, truncating):\n",
        "    X = DF.word_index\n",
        "    y = DF.category_index\n",
        "    X = tf.keras.preprocessing.sequence.pad_sequences(X, maxlen=MAXLEN, padding=padding, truncating=truncating)\n",
        "    return X, y\n",
        "X, y = get_sequence(df_subset, PADDING, TRUNCATING)"
      ],
      "execution_count": 0,
      "outputs": []
    },
    {
      "cell_type": "code",
      "metadata": {
        "id": "ItU18kzASwiL",
        "colab_type": "code",
        "colab": {}
      },
      "source": [
        "X_train, X_val, y_train, y_val = train_test_split(X, y, test_size=0.3)\n",
        "X_val, X_test, y_val, y_test = train_test_split(X_val, y_val, test_size=0.33)\n"
      ],
      "execution_count": 0,
      "outputs": []
    },
    {
      "cell_type": "code",
      "metadata": {
        "id": "PmhQmX-pSwiO",
        "colab_type": "code",
        "colab": {}
      },
      "source": [
        "y_train = tf.keras.utils.to_categorical(y_train)\n",
        "y_val = tf.keras.utils.to_categorical(y_val)\n",
        "y_test = tf.keras.utils.to_categorical(y_test)"
      ],
      "execution_count": 0,
      "outputs": []
    },
    {
      "cell_type": "code",
      "metadata": {
        "id": "6AGCZXT2SwiT",
        "colab_type": "code",
        "colab": {}
      },
      "source": [
        "word2index = tokenizer.word_index"
      ],
      "execution_count": 0,
      "outputs": []
    },
    {
      "cell_type": "code",
      "metadata": {
        "id": "4JpRVsBjSwiW",
        "colab_type": "code",
        "outputId": "b2a397f5-e767-41bb-e35a-e0a39528a287",
        "colab": {
          "base_uri": "https://localhost:8080/",
          "height": 34
        }
      },
      "source": [
        "embeddings_index = {}\n",
        "glove_dir = '/content/gdrive/My Drive/Colab Notebooks/glove.6B'\n",
        "f = open(os.path.join(glove_dir, 'glove.6B.100d.txt'))\n",
        "for line in f:\n",
        "    values = line.split()\n",
        "    word = values[0]\n",
        "    coefs = np.asarray(values[1:], dtype='float32')\n",
        "    embeddings_index[word] = coefs\n",
        "f.close()\n",
        "print('Found %s word vectors.' % len(embeddings_index))"
      ],
      "execution_count": 19,
      "outputs": [
        {
          "output_type": "stream",
          "text": [
            "Found 400000 word vectors.\n"
          ],
          "name": "stdout"
        }
      ]
    },
    {
      "cell_type": "code",
      "metadata": {
        "id": "qsQqLhrkSwiZ",
        "colab_type": "code",
        "colab": {}
      },
      "source": [
        "EMBEDDING_DIM = 100\n",
        "embedding_matrix = np.zeros((len(word2index) + 1, EMBEDDING_DIM))\n",
        "unknown = []\n",
        "known = []\n",
        "for word, i in word2index.items():\n",
        "    embedding_vector = embeddings_index.get(word)\n",
        "    if embedding_vector is not None:\n",
        "        known.append(word)\n",
        "        # words not found in embedding index will be all-zeros.\n",
        "        embedding_matrix[i] = embedding_vector\n",
        "    else:\n",
        "        unknown.append(word)"
      ],
      "execution_count": 0,
      "outputs": []
    },
    {
      "cell_type": "code",
      "metadata": {
        "id": "65oMkQTwSwib",
        "colab_type": "code",
        "outputId": "69069a75-472c-4919-be79-9dacdf81d687",
        "colab": {
          "base_uri": "https://localhost:8080/",
          "height": 68
        }
      },
      "source": [
        "print(len(unknown))\n",
        "print(len(known))\n",
        "len(word2index)"
      ],
      "execution_count": 21,
      "outputs": [
        {
          "output_type": "stream",
          "text": [
            "14098\n",
            "70367\n"
          ],
          "name": "stdout"
        },
        {
          "output_type": "execute_result",
          "data": {
            "text/plain": [
              "84465"
            ]
          },
          "metadata": {
            "tags": []
          },
          "execution_count": 21
        }
      ]
    },
    {
      "cell_type": "code",
      "metadata": {
        "id": "onMA0NguSwie",
        "colab_type": "code",
        "outputId": "e4c198f7-760e-4c43-9653-4b64e91950ad",
        "colab": {
          "base_uri": "https://localhost:8080/",
          "height": 34
        }
      },
      "source": [
        "embedding_matrix.shape"
      ],
      "execution_count": 22,
      "outputs": [
        {
          "output_type": "execute_result",
          "data": {
            "text/plain": [
              "(84466, 100)"
            ]
          },
          "metadata": {
            "tags": []
          },
          "execution_count": 22
        }
      ]
    },
    {
      "cell_type": "code",
      "metadata": {
        "id": "IiMv1xVVSwii",
        "colab_type": "code",
        "colab": {}
      },
      "source": [
        "MAX_SEQUENCE_LENGTH = MAXLEN #max(df.words.apply(len))\n",
        "EMBED_DROPOUT = 0\n",
        "BIDIRECIONAL = True\n",
        "EMBED_DIM = 100\n",
        "EMBED_DROPOUT = 0\n",
        "DROPOUT = 0.2\n",
        "RECURRENT_DROPOUT = 0.2\n",
        "LSTM_OUT_DIM = 50\n",
        "BATCH_SIZE = 64\n",
        "NUM_EPOCH = 20\n",
        "SEQ_OUT = False\n",
        "NUM_CATG = 10\n",
        "REG_COEF = 0.01\n"
      ],
      "execution_count": 0,
      "outputs": []
    },
    {
      "cell_type": "code",
      "metadata": {
        "id": "2MDimQ2jSwik",
        "colab_type": "code",
        "outputId": "4962658b-97c2-4fa9-b758-b79399b76a71",
        "colab": {
          "base_uri": "https://localhost:8080/",
          "height": 471
        }
      },
      "source": [
        "model = tf.keras.models.Sequential([\n",
        "    tf.keras.layers.Embedding(len(word2index) + 1,\n",
        "                              EMBEDDING_DIM,\n",
        "                              weights=[embedding_matrix],\n",
        "                              input_length = MAX_SEQUENCE_LENGTH, \n",
        "                              trainable=True),\n",
        "    tf.keras.layers.Bidirectional(tf.keras.layers.LSTM(LSTM_OUT_DIM, \n",
        "                                                       dropout=DROPOUT, \n",
        "                                                       recurrent_dropout=RECURRENT_DROPOUT,\n",
        "                                                       kernel_regularizer=tf.keras.regularizers.l2(REG_COEF),\n",
        "                                                       bias_regularizer=tf.keras.regularizers.l2(REG_COEF),\n",
        "                                                       return_sequences=SEQ_OUT)),\n",
        "#     tf.keras.layers.TimeDistributed(tf.keras.layers.Dense(NUM_CATG)),\n",
        "    tf.keras.layers.Dense(NUM_CATG),\n",
        "    tf.keras.layers.Activation('softmax'),\n",
        "\n",
        "    ]\n",
        ")\n",
        "model.compile(loss='categorical_crossentropy', optimizer='adam', metrics=['categorical_accuracy'])\n",
        "print(model.summary())"
      ],
      "execution_count": 24,
      "outputs": [
        {
          "output_type": "stream",
          "text": [
            "WARNING:tensorflow:From /usr/local/lib/python3.6/dist-packages/tensorflow/python/ops/resource_variable_ops.py:435: colocate_with (from tensorflow.python.framework.ops) is deprecated and will be removed in a future version.\n",
            "Instructions for updating:\n",
            "Colocations handled automatically by placer.\n",
            "WARNING:tensorflow:From /usr/local/lib/python3.6/dist-packages/tensorflow/python/keras/backend.py:4010: calling dropout (from tensorflow.python.ops.nn_ops) with keep_prob is deprecated and will be removed in a future version.\n",
            "Instructions for updating:\n",
            "Please use `rate` instead of `keep_prob`. Rate should be set to `rate = 1 - keep_prob`.\n",
            "_________________________________________________________________\n",
            "Layer (type)                 Output Shape              Param #   \n",
            "=================================================================\n",
            "embedding (Embedding)        (None, 100, 100)          8446600   \n",
            "_________________________________________________________________\n",
            "bidirectional (Bidirectional (None, 100)               60400     \n",
            "_________________________________________________________________\n",
            "dense (Dense)                (None, 10)                1010      \n",
            "_________________________________________________________________\n",
            "activation (Activation)      (None, 10)                0         \n",
            "=================================================================\n",
            "Total params: 8,508,010\n",
            "Trainable params: 8,508,010\n",
            "Non-trainable params: 0\n",
            "_________________________________________________________________\n",
            "None\n"
          ],
          "name": "stdout"
        }
      ]
    },
    {
      "cell_type": "code",
      "metadata": {
        "id": "4yQRF0UgSwio",
        "colab_type": "code",
        "outputId": "fc7b485c-fb2f-424b-fbec-685f111535c8",
        "colab": {
          "base_uri": "https://localhost:8080/",
          "height": 1020
        }
      },
      "source": [
        "filepath=\"/content/gdrive/My Drive/Colab Notebooks/weights_news_best.hdf5\"\n",
        "\n",
        "mcp_save = tf.keras.callbacks.ModelCheckpoint(filepath, \n",
        "                           monitor='val_categorical_accuracy', \n",
        "                           verbose=1, \n",
        "                           save_best_only=True, \n",
        "                           save_weights_only=True, \n",
        "                           mode='max', \n",
        "                           period=1)\n",
        "\n",
        "earlyStopping = tf.keras.callbacks.EarlyStopping(monitor='val_loss', \n",
        "                              min_delta=0, \n",
        "                              patience=4, \n",
        "                              verbose=1, \n",
        "                              mode='auto', \n",
        "                              baseline=None, \n",
        "                              restore_best_weights=False)\n",
        "\n",
        "reduce_lr_loss = tf.keras.callbacks.ReduceLROnPlateau(monitor='val_loss', \n",
        "                                   factor=0.1, \n",
        "                                   patience=2, \n",
        "                                   verbose=1, \n",
        "                                   mode='min', \n",
        "                                   min_delta=0.0001, \n",
        "                                   cooldown=0, \n",
        "                                   min_lr=0)\n",
        "\n",
        "history = model.fit(X_train,  y_train , \n",
        "                    batch_size=BATCH_SIZE,\n",
        "                    epochs=NUM_EPOCH, verbose=1,\n",
        "                    callbacks=[earlyStopping, mcp_save, reduce_lr_loss],\n",
        "#                     validation_split=0.2,\n",
        "                    validation_data=(X_val, y_val)\n",
        "                   )"
      ],
      "execution_count": 25,
      "outputs": [
        {
          "output_type": "stream",
          "text": [
            "Train on 84003 samples, validate on 24121 samples\n",
            "WARNING:tensorflow:From /usr/local/lib/python3.6/dist-packages/tensorflow/python/ops/math_ops.py:3066: to_int32 (from tensorflow.python.ops.math_ops) is deprecated and will be removed in a future version.\n",
            "Instructions for updating:\n",
            "Use tf.cast instead.\n",
            "Epoch 1/20\n",
            "83968/84003 [============================>.] - ETA: 0s - loss: 1.6669 - categorical_accuracy: 0.6416\n",
            "Epoch 00001: val_categorical_accuracy improved from -inf to 0.78670, saving model to weights_news_best.hdf5\n",
            "84003/84003 [==============================] - 672s 8ms/sample - loss: 1.6666 - categorical_accuracy: 0.6416 - val_loss: 0.8418 - val_categorical_accuracy: 0.7867\n",
            "Epoch 2/20\n",
            "83968/84003 [============================>.] - ETA: 0s - loss: 0.7691 - categorical_accuracy: 0.7963\n",
            "Epoch 00002: val_categorical_accuracy improved from 0.78670 to 0.80971, saving model to weights_news_best.hdf5\n",
            "84003/84003 [==============================] - 671s 8ms/sample - loss: 0.7691 - categorical_accuracy: 0.7962 - val_loss: 0.6920 - val_categorical_accuracy: 0.8097\n",
            "Epoch 3/20\n",
            "83968/84003 [============================>.] - ETA: 0s - loss: 0.6208 - categorical_accuracy: 0.8316\n",
            "Epoch 00003: val_categorical_accuracy improved from 0.80971 to 0.81953, saving model to weights_news_best.hdf5\n",
            "84003/84003 [==============================] - 675s 8ms/sample - loss: 0.6207 - categorical_accuracy: 0.8316 - val_loss: 0.6453 - val_categorical_accuracy: 0.8195\n",
            "Epoch 4/20\n",
            "83968/84003 [============================>.] - ETA: 0s - loss: 0.5295 - categorical_accuracy: 0.8563\n",
            "Epoch 00004: val_categorical_accuracy improved from 0.81953 to 0.82198, saving model to weights_news_best.hdf5\n",
            "84003/84003 [==============================] - 674s 8ms/sample - loss: 0.5296 - categorical_accuracy: 0.8562 - val_loss: 0.6281 - val_categorical_accuracy: 0.8220\n",
            "Epoch 5/20\n",
            "83968/84003 [============================>.] - ETA: 0s - loss: 0.4644 - categorical_accuracy: 0.8736\n",
            "Epoch 00005: val_categorical_accuracy did not improve from 0.82198\n",
            "84003/84003 [==============================] - 674s 8ms/sample - loss: 0.4644 - categorical_accuracy: 0.8736 - val_loss: 0.6300 - val_categorical_accuracy: 0.8218\n",
            "Epoch 6/20\n",
            "83968/84003 [============================>.] - ETA: 0s - loss: 0.4141 - categorical_accuracy: 0.8897\n",
            "Epoch 00006: val_categorical_accuracy did not improve from 0.82198\n",
            "\n",
            "Epoch 00006: ReduceLROnPlateau reducing learning rate to 0.00010000000474974513.\n",
            "84003/84003 [==============================] - 673s 8ms/sample - loss: 0.4141 - categorical_accuracy: 0.8897 - val_loss: 0.6578 - val_categorical_accuracy: 0.8167\n",
            "Epoch 7/20\n",
            "83968/84003 [============================>.] - ETA: 0s - loss: 0.3398 - categorical_accuracy: 0.9112\n",
            "Epoch 00007: val_categorical_accuracy improved from 0.82198 to 0.82314, saving model to weights_news_best.hdf5\n",
            "84003/84003 [==============================] - 672s 8ms/sample - loss: 0.3398 - categorical_accuracy: 0.9112 - val_loss: 0.6359 - val_categorical_accuracy: 0.8231\n",
            "Epoch 8/20\n",
            "83968/84003 [============================>.] - ETA: 0s - loss: 0.3254 - categorical_accuracy: 0.9131\n",
            "Epoch 00008: val_categorical_accuracy improved from 0.82314 to 0.82443, saving model to weights_news_best.hdf5\n",
            "\n",
            "Epoch 00008: ReduceLROnPlateau reducing learning rate to 1.0000000474974514e-05.\n",
            "84003/84003 [==============================] - 670s 8ms/sample - loss: 0.3255 - categorical_accuracy: 0.9130 - val_loss: 0.6385 - val_categorical_accuracy: 0.8244\n",
            "Epoch 00008: early stopping\n"
          ],
          "name": "stdout"
        }
      ]
    }
  ]
}