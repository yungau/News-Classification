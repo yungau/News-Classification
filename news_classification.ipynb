{
  "nbformat": 4,
  "nbformat_minor": 0,
  "metadata": {
    "colab": {
      "name": "news_classification.ipynb",
      "version": "0.3.2",
      "provenance": [],
      "collapsed_sections": [],
      "toc_visible": true
    },
    "language_info": {
      "codemirror_mode": {
        "name": "ipython",
        "version": 3
      },
      "file_extension": ".py",
      "mimetype": "text/x-python",
      "name": "python",
      "nbconvert_exporter": "python",
      "pygments_lexer": "ipython3",
      "version": "3.6.6"
    },
    "kernelspec": {
      "name": "python3",
      "display_name": "Python 3"
    },
    "accelerator": "TPU"
  },
  "cells": [
    {
      "cell_type": "markdown",
      "metadata": {
        "id": "zXInZcovslBI",
        "colab_type": "text"
      },
      "source": [
        "#News Category Dataset\n",
        "##Identify the type of news based on headlines and short descriptions"
      ]
    },
    {
      "cell_type": "markdown",
      "metadata": {
        "id": "RjXu-IM3ysD9",
        "colab_type": "text"
      },
      "source": [
        "## Context\n",
        "\n",
        "This dataset contains around 200k news headlines from the year 2012 to 2018 obtained from HuffPost.\n",
        "\n",
        "[More details](https://www.kaggle.com/rmisra/news-category-dataset)"
      ]
    },
    {
      "cell_type": "code",
      "metadata": {
        "id": "XRAOUYrwSwg1",
        "colab_type": "code",
        "colab": {}
      },
      "source": [
        "import pandas as pd\n",
        "import tensorflow as tf\n",
        "import re\n",
        "from sklearn.model_selection import train_test_split\n",
        "import numpy as np\n",
        "import matplotlib.pyplot as plt"
      ],
      "execution_count": 0,
      "outputs": []
    },
    {
      "cell_type": "code",
      "metadata": {
        "id": "dWybidR2Swg8",
        "colab_type": "code",
        "outputId": "aa0c96f9-ed0e-4ba0-8278-f113f9f945f3",
        "colab": {
          "base_uri": "https://localhost:8080/",
          "height": 94
        }
      },
      "source": [
        "from google.colab import drive\n",
        "drive.mount('/content/gdrive')\n",
        "raw_df = pd.read_json('/content/gdrive/My Drive/Colab Notebooks/News_Category_Dataset_v2.json', lines = True)\n"
      ],
      "execution_count": 2,
      "outputs": [
        {
          "output_type": "stream",
          "text": [
            "Drive already mounted at /content/gdrive; to attempt to forcibly remount, call drive.mount(\"/content/gdrive\", force_remount=True).\n"
          ],
          "name": "stdout"
        }
      ]
    },
    {
      "cell_type": "markdown",
      "metadata": {
        "id": "q8UQa_7w97L3",
        "colab_type": "text"
      },
      "source": [
        "##Exploarative data analysis"
      ]
    },
    {
      "cell_type": "code",
      "metadata": {
        "id": "Wupw3hQW95LZ",
        "colab_type": "code",
        "colab": {
          "base_uri": "https://localhost:8080/",
          "height": 357
        },
        "outputId": "58b27554-c88b-4659-d767-87875c6572fb"
      },
      "source": [
        "raw_df.head()"
      ],
      "execution_count": 3,
      "outputs": [
        {
          "output_type": "execute_result",
          "data": {
            "text/html": [
              "<div>\n",
              "<style scoped>\n",
              "    .dataframe tbody tr th:only-of-type {\n",
              "        vertical-align: middle;\n",
              "    }\n",
              "\n",
              "    .dataframe tbody tr th {\n",
              "        vertical-align: top;\n",
              "    }\n",
              "\n",
              "    .dataframe thead th {\n",
              "        text-align: right;\n",
              "    }\n",
              "</style>\n",
              "<table border=\"1\" class=\"dataframe\">\n",
              "  <thead>\n",
              "    <tr style=\"text-align: right;\">\n",
              "      <th></th>\n",
              "      <th>authors</th>\n",
              "      <th>category</th>\n",
              "      <th>date</th>\n",
              "      <th>headline</th>\n",
              "      <th>link</th>\n",
              "      <th>short_description</th>\n",
              "    </tr>\n",
              "  </thead>\n",
              "  <tbody>\n",
              "    <tr>\n",
              "      <th>0</th>\n",
              "      <td>Melissa Jeltsen</td>\n",
              "      <td>CRIME</td>\n",
              "      <td>2018-05-26</td>\n",
              "      <td>There Were 2 Mass Shootings In Texas Last Week...</td>\n",
              "      <td>https://www.huffingtonpost.com/entry/texas-ama...</td>\n",
              "      <td>She left her husband. He killed their children...</td>\n",
              "    </tr>\n",
              "    <tr>\n",
              "      <th>1</th>\n",
              "      <td>Andy McDonald</td>\n",
              "      <td>ENTERTAINMENT</td>\n",
              "      <td>2018-05-26</td>\n",
              "      <td>Will Smith Joins Diplo And Nicky Jam For The 2...</td>\n",
              "      <td>https://www.huffingtonpost.com/entry/will-smit...</td>\n",
              "      <td>Of course it has a song.</td>\n",
              "    </tr>\n",
              "    <tr>\n",
              "      <th>2</th>\n",
              "      <td>Ron Dicker</td>\n",
              "      <td>ENTERTAINMENT</td>\n",
              "      <td>2018-05-26</td>\n",
              "      <td>Hugh Grant Marries For The First Time At Age 57</td>\n",
              "      <td>https://www.huffingtonpost.com/entry/hugh-gran...</td>\n",
              "      <td>The actor and his longtime girlfriend Anna Ebe...</td>\n",
              "    </tr>\n",
              "    <tr>\n",
              "      <th>3</th>\n",
              "      <td>Ron Dicker</td>\n",
              "      <td>ENTERTAINMENT</td>\n",
              "      <td>2018-05-26</td>\n",
              "      <td>Jim Carrey Blasts 'Castrato' Adam Schiff And D...</td>\n",
              "      <td>https://www.huffingtonpost.com/entry/jim-carre...</td>\n",
              "      <td>The actor gives Dems an ass-kicking for not fi...</td>\n",
              "    </tr>\n",
              "    <tr>\n",
              "      <th>4</th>\n",
              "      <td>Ron Dicker</td>\n",
              "      <td>ENTERTAINMENT</td>\n",
              "      <td>2018-05-26</td>\n",
              "      <td>Julianna Margulies Uses Donald Trump Poop Bags...</td>\n",
              "      <td>https://www.huffingtonpost.com/entry/julianna-...</td>\n",
              "      <td>The \"Dietland\" actress said using the bags is ...</td>\n",
              "    </tr>\n",
              "  </tbody>\n",
              "</table>\n",
              "</div>"
            ],
            "text/plain": [
              "           authors  ...                                  short_description\n",
              "0  Melissa Jeltsen  ...  She left her husband. He killed their children...\n",
              "1    Andy McDonald  ...                           Of course it has a song.\n",
              "2       Ron Dicker  ...  The actor and his longtime girlfriend Anna Ebe...\n",
              "3       Ron Dicker  ...  The actor gives Dems an ass-kicking for not fi...\n",
              "4       Ron Dicker  ...  The \"Dietland\" actress said using the bags is ...\n",
              "\n",
              "[5 rows x 6 columns]"
            ]
          },
          "metadata": {
            "tags": []
          },
          "execution_count": 3
        }
      ]
    },
    {
      "cell_type": "code",
      "metadata": {
        "id": "SEpqpstq-bZu",
        "colab_type": "code",
        "colab": {
          "base_uri": "https://localhost:8080/",
          "height": 136
        },
        "outputId": "ea67ace9-f3e2-44d7-cadf-619706d3be6c"
      },
      "source": [
        "raw_df.isnull().sum()"
      ],
      "execution_count": 4,
      "outputs": [
        {
          "output_type": "execute_result",
          "data": {
            "text/plain": [
              "authors              0\n",
              "category             0\n",
              "date                 0\n",
              "headline             0\n",
              "link                 0\n",
              "short_description    0\n",
              "dtype: int64"
            ]
          },
          "metadata": {
            "tags": []
          },
          "execution_count": 4
        }
      ]
    },
    {
      "cell_type": "code",
      "metadata": {
        "id": "qog7p5NLSwhJ",
        "colab_type": "code",
        "outputId": "24dd4219-ddfb-4508-8125-84472e82346b",
        "colab": {
          "base_uri": "https://localhost:8080/",
          "height": 34
        }
      },
      "source": [
        "print('Number of categories: ', len(raw_df.category.unique()))"
      ],
      "execution_count": 5,
      "outputs": [
        {
          "output_type": "stream",
          "text": [
            "Number of categories:  41\n"
          ],
          "name": "stdout"
        }
      ]
    },
    {
      "cell_type": "code",
      "metadata": {
        "id": "u2tAMg10SwhQ",
        "colab_type": "code",
        "outputId": "b2eb2952-7521-40f1-cd88-920edaa4384b",
        "colab": {
          "base_uri": "https://localhost:8080/",
          "height": 749
        }
      },
      "source": [
        "pd.value_counts(raw_df.category).plot(figsize=(20,10), kind='bar')"
      ],
      "execution_count": 6,
      "outputs": [
        {
          "output_type": "execute_result",
          "data": {
            "text/plain": [
              "<matplotlib.axes._subplots.AxesSubplot at 0x7f669b1a9eb8>"
            ]
          },
          "metadata": {
            "tags": []
          },
          "execution_count": 6
        },
        {
          "output_type": "display_data",
          "data": {
            "image/png": "[encoded data removed]",
            "text/plain": [
              "<Figure size 1440x720 with 1 Axes>"
            ]
          },
          "metadata": {
            "tags": []
          }
        }
      ]
    },
    {
      "cell_type": "code",
      "metadata": {
        "id": "QVmVGGCjSwhY",
        "colab_type": "code",
        "outputId": "d9d340f0-6efe-493d-9042-911b070f8783",
        "colab": {
          "base_uri": "https://localhost:8080/",
          "height": 599
        }
      },
      "source": [
        "pd.value_counts(raw_df.category).plot(figsize=(10,10), kind='pie')"
      ],
      "execution_count": 7,
      "outputs": [
        {
          "output_type": "execute_result",
          "data": {
            "text/plain": [
              "<matplotlib.axes._subplots.AxesSubplot at 0x7f669b084668>"
            ]
          },
          "metadata": {
            "tags": []
          },
          "execution_count": 7
        },
        {
          "output_type": "display_data",
          "data": {
            "image/png": "[encoded data removed]",
            "text/plain": [
              "<Figure size 720x720 with 1 Axes>"
            ]
          },
          "metadata": {
            "tags": []
          }
        }
      ]
    },
    {
      "cell_type": "code",
      "metadata": {
        "id": "eiO8TV7pSwhe",
        "colab_type": "code",
        "outputId": "3430d48a-59c3-408c-c4de-c52706eac07b",
        "colab": {
          "base_uri": "https://localhost:8080/",
          "height": 34
        }
      },
      "source": [
        "print('Number of rows without short description: ', sum(raw_df.short_description == ''))"
      ],
      "execution_count": 8,
      "outputs": [
        {
          "output_type": "stream",
          "text": [
            "Number of rows without short description:  19712\n"
          ],
          "name": "stdout"
        }
      ]
    },
    {
      "cell_type": "code",
      "metadata": {
        "id": "YD4TQ6kjSwhk",
        "colab_type": "code",
        "outputId": "292fc303-e78a-4957-f20d-7bf47f548cac",
        "colab": {
          "base_uri": "https://localhost:8080/",
          "height": 34
        }
      },
      "source": [
        "print('Number of rows without headline: ', sum(raw_df.headline == ''))"
      ],
      "execution_count": 9,
      "outputs": [
        {
          "output_type": "stream",
          "text": [
            "Number of rows without headline:  6\n"
          ],
          "name": "stdout"
        }
      ]
    },
    {
      "cell_type": "code",
      "metadata": {
        "id": "rLr57R-BSwhq",
        "colab_type": "code",
        "outputId": "16490d16-e770-4f92-cb6b-97a2734e2a50",
        "colab": {
          "base_uri": "https://localhost:8080/",
          "height": 34
        }
      },
      "source": [
        "#Only use data contain headline or short description\n",
        "df = raw_df[(raw_df.headline != '') | (raw_df.short_description != '')][['category', 'headline', 'short_description']]\n",
        "#Combine headline and short description\n",
        "df['text'] = df.headline + ' \\n ' + df.short_description\n",
        "df = df[['text', 'category']]\n",
        "print('Size of dataset: ', df.shape)"
      ],
      "execution_count": 10,
      "outputs": [
        {
          "output_type": "stream",
          "text": [
            "Size of dataset:  (200848, 2)\n"
          ],
          "name": "stdout"
        }
      ]
    },
    {
      "cell_type": "markdown",
      "metadata": {
        "id": "g--1cJH49HSB",
        "colab_type": "text"
      },
      "source": [
        "We use English letters only to train our model and make prediction\n"
      ]
    },
    {
      "cell_type": "code",
      "metadata": {
        "id": "okvksJoBSwhw",
        "colab_type": "code",
        "outputId": "868a0f07-3e17-4ae9-bcb5-3f323b37dfba",
        "colab": {
          "base_uri": "https://localhost:8080/",
          "height": 204
        }
      },
      "source": [
        "letters_only = lambda x: re.sub('[^a-zA-Z]', ' ', x)\n",
        "df.text = df.text.apply(letters_only)\n",
        "df.head()"
      ],
      "execution_count": 11,
      "outputs": [
        {
          "output_type": "execute_result",
          "data": {
            "text/html": [
              "<div>\n",
              "<style scoped>\n",
              "    .dataframe tbody tr th:only-of-type {\n",
              "        vertical-align: middle;\n",
              "    }\n",
              "\n",
              "    .dataframe tbody tr th {\n",
              "        vertical-align: top;\n",
              "    }\n",
              "\n",
              "    .dataframe thead th {\n",
              "        text-align: right;\n",
              "    }\n",
              "</style>\n",
              "<table border=\"1\" class=\"dataframe\">\n",
              "  <thead>\n",
              "    <tr style=\"text-align: right;\">\n",
              "      <th></th>\n",
              "      <th>text</th>\n",
              "      <th>category</th>\n",
              "    </tr>\n",
              "  </thead>\n",
              "  <tbody>\n",
              "    <tr>\n",
              "      <th>0</th>\n",
              "      <td>There Were   Mass Shootings In Texas Last Week...</td>\n",
              "      <td>CRIME</td>\n",
              "    </tr>\n",
              "    <tr>\n",
              "      <th>1</th>\n",
              "      <td>Will Smith Joins Diplo And Nicky Jam For The  ...</td>\n",
              "      <td>ENTERTAINMENT</td>\n",
              "    </tr>\n",
              "    <tr>\n",
              "      <th>2</th>\n",
              "      <td>Hugh Grant Marries For The First Time At Age  ...</td>\n",
              "      <td>ENTERTAINMENT</td>\n",
              "    </tr>\n",
              "    <tr>\n",
              "      <th>3</th>\n",
              "      <td>Jim Carrey Blasts  Castrato  Adam Schiff And D...</td>\n",
              "      <td>ENTERTAINMENT</td>\n",
              "    </tr>\n",
              "    <tr>\n",
              "      <th>4</th>\n",
              "      <td>Julianna Margulies Uses Donald Trump Poop Bags...</td>\n",
              "      <td>ENTERTAINMENT</td>\n",
              "    </tr>\n",
              "  </tbody>\n",
              "</table>\n",
              "</div>"
            ],
            "text/plain": [
              "                                                text       category\n",
              "0  There Were   Mass Shootings In Texas Last Week...          CRIME\n",
              "1  Will Smith Joins Diplo And Nicky Jam For The  ...  ENTERTAINMENT\n",
              "2  Hugh Grant Marries For The First Time At Age  ...  ENTERTAINMENT\n",
              "3  Jim Carrey Blasts  Castrato  Adam Schiff And D...  ENTERTAINMENT\n",
              "4  Julianna Margulies Uses Donald Trump Poop Bags...  ENTERTAINMENT"
            ]
          },
          "metadata": {
            "tags": []
          },
          "execution_count": 11
        }
      ]
    },
    {
      "cell_type": "code",
      "metadata": {
        "id": "jZNuB-xJSwiA",
        "colab_type": "code",
        "colab": {}
      },
      "source": [
        "# from tf.keras.preprocessing.sequence import pad_sequences\n",
        "MAXLEN = 100\n",
        "catg_index = dict(enumerate([i for i in pd.value_counts(df.category).index]))\n",
        "catg_index = {v: k for k,v in catg_index.items()}\n",
        "index_catg = {v: k for k, v in catg_index.items()}\n",
        "df['category_index'] = df.category.apply(lambda x: catg_index.get(x))"
      ],
      "execution_count": 0,
      "outputs": []
    },
    {
      "cell_type": "markdown",
      "metadata": {
        "id": "tI5M9koWECyP",
        "colab_type": "text"
      },
      "source": [
        "##Data preparation for model training"
      ]
    },
    {
      "cell_type": "markdown",
      "metadata": {
        "id": "-KBzAZDbEXu4",
        "colab_type": "text"
      },
      "source": [
        "<font size=\"4\">Tokenization</font>**bold text**"
      ]
    },
    {
      "cell_type": "code",
      "metadata": {
        "id": "FG5hZteFSwh3",
        "colab_type": "code",
        "colab": {}
      },
      "source": [
        "tokenizer = tf.keras.preprocessing.text.Tokenizer()\n",
        "tokenizer.fit_on_texts(df.text)\n",
        "df['word_index'] = tokenizer.texts_to_sequences(df.text)"
      ],
      "execution_count": 0,
      "outputs": []
    },
    {
      "cell_type": "code",
      "metadata": {
        "id": "EkD5O3XhSwiD",
        "colab_type": "code",
        "outputId": "b49b0045-4719-483a-b193-98d16575ad9f",
        "colab": {
          "base_uri": "https://localhost:8080/",
          "height": 204
        }
      },
      "source": [
        "df.head()"
      ],
      "execution_count": 14,
      "outputs": [
        {
          "output_type": "execute_result",
          "data": {
            "text/html": [
              "<div>\n",
              "<style scoped>\n",
              "    .dataframe tbody tr th:only-of-type {\n",
              "        vertical-align: middle;\n",
              "    }\n",
              "\n",
              "    .dataframe tbody tr th {\n",
              "        vertical-align: top;\n",
              "    }\n",
              "\n",
              "    .dataframe thead th {\n",
              "        text-align: right;\n",
              "    }\n",
              "</style>\n",
              "<table border=\"1\" class=\"dataframe\">\n",
              "  <thead>\n",
              "    <tr style=\"text-align: right;\">\n",
              "      <th></th>\n",
              "      <th>text</th>\n",
              "      <th>category</th>\n",
              "      <th>category_index</th>\n",
              "      <th>word_index</th>\n",
              "    </tr>\n",
              "  </thead>\n",
              "  <tbody>\n",
              "    <tr>\n",
              "      <th>0</th>\n",
              "      <td>There Were   Mass Shootings In Texas Last Week...</td>\n",
              "      <td>CRIME</td>\n",
              "      <td>20</td>\n",
              "      <td>[60, 106, 1271, 2909, 7, 646, 136, 92, 29, 121...</td>\n",
              "    </tr>\n",
              "    <tr>\n",
              "      <th>1</th>\n",
              "      <td>Will Smith Joins Diplo And Nicky Jam For The  ...</td>\n",
              "      <td>ENTERTAINMENT</td>\n",
              "      <td>2</td>\n",
              "      <td>[45, 1392, 2910, 22678, 5, 23907, 4951, 9, 1, ...</td>\n",
              "    </tr>\n",
              "    <tr>\n",
              "      <th>2</th>\n",
              "      <td>Hugh Grant Marries For The First Time At Age  ...</td>\n",
              "      <td>ENTERTAINMENT</td>\n",
              "      <td>2</td>\n",
              "      <td>[5777, 4982, 7722, 9, 1, 81, 56, 23, 401, 1, 8...</td>\n",
              "    </tr>\n",
              "    <tr>\n",
              "      <th>3</th>\n",
              "      <td>Jim Carrey Blasts  Castrato  Adam Schiff And D...</td>\n",
              "      <td>ENTERTAINMENT</td>\n",
              "      <td>2</td>\n",
              "      <td>[2595, 10635, 3514, 52932, 2230, 12303, 5, 521...</td>\n",
              "    </tr>\n",
              "    <tr>\n",
              "      <th>4</th>\n",
              "      <td>Julianna Margulies Uses Donald Trump Poop Bags...</td>\n",
              "      <td>ENTERTAINMENT</td>\n",
              "      <td>2</td>\n",
              "      <td>[36118, 29453, 1484, 101, 35, 7339, 3073, 2, 9...</td>\n",
              "    </tr>\n",
              "  </tbody>\n",
              "</table>\n",
              "</div>"
            ],
            "text/plain": [
              "                                                text  ...                                         word_index\n",
              "0  There Were   Mass Shootings In Texas Last Week...  ...  [60, 106, 1271, 2909, 7, 646, 136, 92, 29, 121...\n",
              "1  Will Smith Joins Diplo And Nicky Jam For The  ...  ...  [45, 1392, 2910, 22678, 5, 23907, 4951, 9, 1, ...\n",
              "2  Hugh Grant Marries For The First Time At Age  ...  ...  [5777, 4982, 7722, 9, 1, 81, 56, 23, 401, 1, 8...\n",
              "3  Jim Carrey Blasts  Castrato  Adam Schiff And D...  ...  [2595, 10635, 3514, 52932, 2230, 12303, 5, 521...\n",
              "4  Julianna Margulies Uses Donald Trump Poop Bags...  ...  [36118, 29453, 1484, 101, 35, 7339, 3073, 2, 9...\n",
              "\n",
              "[5 rows x 4 columns]"
            ]
          },
          "metadata": {
            "tags": []
          },
          "execution_count": 14
        }
      ]
    },
    {
      "cell_type": "markdown",
      "metadata": {
        "id": "utx-2dPa12z5",
        "colab_type": "text"
      },
      "source": [
        "<font size=\"4\">**We only predict top 10 most frequently occurring news categories for the reasons of shorter training time and better performance.**\n",
        "</font>\n"
      ]
    },
    {
      "cell_type": "code",
      "metadata": {
        "id": "GglKXlgVSwiR",
        "colab_type": "code",
        "colab": {}
      },
      "source": [
        "df_subset = df[df.category_index < 10]"
      ],
      "execution_count": 0,
      "outputs": []
    },
    {
      "cell_type": "code",
      "metadata": {
        "id": "Io7KojbBSwiH",
        "colab_type": "code",
        "colab": {}
      },
      "source": [
        "PADDING = 'pre'\n",
        "TRUNCATING = 'post'\n",
        "def get_sequence(DF, padding, truncating):\n",
        "    X = DF.word_index\n",
        "    y = DF.category_index\n",
        "    X = tf.keras.preprocessing.sequence.pad_sequences(X, maxlen=MAXLEN, padding=padding, truncating=truncating)\n",
        "    return X, y\n",
        "X, y = get_sequence(df_subset, PADDING, TRUNCATING)"
      ],
      "execution_count": 0,
      "outputs": []
    },
    {
      "cell_type": "code",
      "metadata": {
        "id": "ItU18kzASwiL",
        "colab_type": "code",
        "colab": {}
      },
      "source": [
        "RANDOM_SEED = 10\n",
        "X_train, X_val, y_train, y_val = train_test_split(X, y, test_size=0.3, random_state=RANDOM_SEED)\n",
        "X_val, X_test, y_val, y_test = train_test_split(X_val, y_val, test_size=0.33, random_state=RANDOM_SEED)\n"
      ],
      "execution_count": 0,
      "outputs": []
    },
    {
      "cell_type": "code",
      "metadata": {
        "id": "PmhQmX-pSwiO",
        "colab_type": "code",
        "colab": {}
      },
      "source": [
        "y_train = tf.keras.utils.to_categorical(y_train)\n",
        "y_val = tf.keras.utils.to_categorical(y_val)\n",
        "y_test = tf.keras.utils.to_categorical(y_test)"
      ],
      "execution_count": 0,
      "outputs": []
    },
    {
      "cell_type": "code",
      "metadata": {
        "id": "6AGCZXT2SwiT",
        "colab_type": "code",
        "colab": {}
      },
      "source": [
        "word2index = tokenizer.word_index\n",
        "index2word = {v: k for k, v in word2index.items()}"
      ],
      "execution_count": 0,
      "outputs": []
    },
    {
      "cell_type": "markdown",
      "metadata": {
        "id": "QLd227kO1Clv",
        "colab_type": "text"
      },
      "source": [
        "<font size=\"4\">Word embedding using GloVe 100-Dimensional Word Vectors</font>"
      ]
    },
    {
      "cell_type": "code",
      "metadata": {
        "id": "4JpRVsBjSwiW",
        "colab_type": "code",
        "outputId": "fe30f516-1501-4662-efd0-4480d152d8c9",
        "colab": {
          "base_uri": "https://localhost:8080/",
          "height": 34
        }
      },
      "source": [
        "embeddings_index = {}\n",
        "glove_dir = '/content/gdrive/My Drive/Colab Notebooks/glove.6B'\n",
        "f = open(glove_dir +'/glove.6B.100d.txt')\n",
        "for line in f:\n",
        "    values = line.split()\n",
        "    word = values[0]\n",
        "    coefs = np.asarray(values[1:], dtype='float32')\n",
        "    embeddings_index[word] = coefs\n",
        "f.close()\n",
        "print('Found %s word vectors.' % len(embeddings_index))"
      ],
      "execution_count": 20,
      "outputs": [
        {
          "output_type": "stream",
          "text": [
            "Found 400000 word vectors.\n"
          ],
          "name": "stdout"
        }
      ]
    },
    {
      "cell_type": "code",
      "metadata": {
        "id": "qsQqLhrkSwiZ",
        "colab_type": "code",
        "colab": {}
      },
      "source": [
        "EMBEDDING_DIM = 100\n",
        "embedding_matrix = np.zeros((len(word2index) + 1, EMBEDDING_DIM))\n",
        "unknown = []\n",
        "known = []\n",
        "for word, i in word2index.items():\n",
        "    embedding_vector = embeddings_index.get(word)\n",
        "    if embedding_vector is not None:\n",
        "        known.append(word)\n",
        "        # words not found in embedding index will be all-zeros.\n",
        "        embedding_matrix[i] = embedding_vector\n",
        "    else:\n",
        "        unknown.append(word)"
      ],
      "execution_count": 0,
      "outputs": []
    },
    {
      "cell_type": "code",
      "metadata": {
        "id": "65oMkQTwSwib",
        "colab_type": "code",
        "outputId": "81534bb8-d9ea-4327-ceae-4ef21df30bde",
        "colab": {
          "base_uri": "https://localhost:8080/",
          "height": 68
        }
      },
      "source": [
        "print('Number of words in the dataset not found in the embedding index:\\t', len(unknown))\n",
        "print('Number of words in the dataset found in the embedding index:\\t\\t',len(known))\n",
        "print('Number of unique words in the dataset:\\t\\t\\t\\t\\t', len(word2index))"
      ],
      "execution_count": 22,
      "outputs": [
        {
          "output_type": "stream",
          "text": [
            "Number of words in the dataset not found in the embedding index:\t 14098\n",
            "Number of words in the dataset found in the embedding index:\t\t 70367\n",
            "Number of unique words in the dataset:\t\t\t\t\t 84465\n"
          ],
          "name": "stdout"
        }
      ]
    },
    {
      "cell_type": "code",
      "metadata": {
        "id": "onMA0NguSwie",
        "colab_type": "code",
        "outputId": "8ad8860f-596c-45da-9a61-f4f9928f63ea",
        "colab": {
          "base_uri": "https://localhost:8080/",
          "height": 34
        }
      },
      "source": [
        "embedding_matrix.shape"
      ],
      "execution_count": 23,
      "outputs": [
        {
          "output_type": "execute_result",
          "data": {
            "text/plain": [
              "(84466, 100)"
            ]
          },
          "metadata": {
            "tags": []
          },
          "execution_count": 23
        }
      ]
    },
    {
      "cell_type": "code",
      "metadata": {
        "id": "IiMv1xVVSwii",
        "colab_type": "code",
        "colab": {}
      },
      "source": [
        "MAX_SEQUENCE_LENGTH = MAXLEN #max(df.words.apply(len))\n",
        "BIDIRECIONAL = True\n",
        "EMBED_DIM = 100\n",
        "EMBED_DROPOUT = 0\n",
        "DROPOUT = 0.2\n",
        "RECURRENT_DROPOUT = 0.2\n",
        "LSTM_OUT_DIM = 50\n",
        "BATCH_SIZE = 128\n",
        "NUM_EPOCH = 20\n",
        "SEQ_OUT = False\n",
        "NUM_CATG = 10\n",
        "REG_COEF = 0.01\n"
      ],
      "execution_count": 0,
      "outputs": []
    },
    {
      "cell_type": "markdown",
      "metadata": {
        "id": "LvSzBrOmEwkK",
        "colab_type": "text"
      },
      "source": [
        "##Model building and training"
      ]
    },
    {
      "cell_type": "markdown",
      "metadata": {
        "id": "yyHZKE-W2APT",
        "colab_type": "text"
      },
      "source": [
        "<font size=\"4\">Bidirectional  LSTM</font>"
      ]
    },
    {
      "cell_type": "code",
      "metadata": {
        "id": "2MDimQ2jSwik",
        "colab_type": "code",
        "outputId": "6b7ae6fc-6b4a-4659-ef75-9f65195cbc21",
        "colab": {
          "base_uri": "https://localhost:8080/",
          "height": 431
        }
      },
      "source": [
        "model = tf.keras.models.Sequential([\n",
        "    tf.keras.layers.Embedding(len(word2index) + 1,\n",
        "                              EMBEDDING_DIM,\n",
        "                              weights=[embedding_matrix],\n",
        "                              input_length = MAX_SEQUENCE_LENGTH, \n",
        "                              trainable=True),\n",
        "    tf.keras.layers.Bidirectional(tf.keras.layers.LSTM(LSTM_OUT_DIM, \n",
        "                                                       dropout=DROPOUT, \n",
        "                                                       recurrent_dropout=RECURRENT_DROPOUT,\n",
        "                                                       kernel_regularizer=tf.keras.regularizers.l2(REG_COEF),\n",
        "                                                       bias_regularizer=tf.keras.regularizers.l2(REG_COEF),\n",
        "                                                       return_sequences=SEQ_OUT)),\n",
        "#     tf.keras.layers.TimeDistributed(tf.keras.layers.Dense(NUM_CATG)),\n",
        "    tf.keras.layers.Dense(NUM_CATG),\n",
        "    tf.keras.layers.Activation('softmax'),\n",
        "\n",
        "    ]\n",
        ")\n",
        "model.compile(loss='categorical_crossentropy', optimizer='adam', metrics=['categorical_accuracy'])\n",
        "print(model.summary())"
      ],
      "execution_count": 25,
      "outputs": [
        {
          "output_type": "stream",
          "text": [
            "WARNING:tensorflow:From /usr/local/lib/python3.6/dist-packages/tensorflow/python/ops/resource_variable_ops.py:435: colocate_with (from tensorflow.python.framework.ops) is deprecated and will be removed in a future version.\n",
            "Instructions for updating:\n",
            "Colocations handled automatically by placer.\n",
            "WARNING:tensorflow:From /usr/local/lib/python3.6/dist-packages/tensorflow/python/keras/backend.py:4010: calling dropout (from tensorflow.python.ops.nn_ops) with keep_prob is deprecated and will be removed in a future version.\n",
            "Instructions for updating:\n",
            "Please use `rate` instead of `keep_prob`. Rate should be set to `rate = 1 - keep_prob`.\n",
            "_________________________________________________________________\n",
            "Layer (type)                 Output Shape              Param #   \n",
            "=================================================================\n",
            "embedding (Embedding)        (None, 100, 100)          8446600   \n",
            "_________________________________________________________________\n",
            "bidirectional (Bidirectional (None, 100)               60400     \n",
            "_________________________________________________________________\n",
            "dense (Dense)                (None, 10)                1010      \n",
            "_________________________________________________________________\n",
            "activation (Activation)      (None, 10)                0         \n",
            "=================================================================\n",
            "Total params: 8,508,010\n",
            "Trainable params: 8,508,010\n",
            "Non-trainable params: 0\n",
            "_________________________________________________________________\n",
            "None\n"
          ],
          "name": "stdout"
        }
      ]
    },
    {
      "cell_type": "code",
      "metadata": {
        "id": "4yQRF0UgSwio",
        "colab_type": "code",
        "outputId": "80b97b8a-f31e-4a18-aaa2-dbc14fbc1ac0",
        "colab": {
          "base_uri": "https://localhost:8080/",
          "height": 1040
        }
      },
      "source": [
        "%%time\n",
        "filepath=\"./news_weights_best.h5\"\n",
        "\n",
        "mcp_save = tf.keras.callbacks.ModelCheckpoint(filepath, \n",
        "                           monitor='val_categorical_accuracy', \n",
        "                           verbose=1, \n",
        "                           save_best_only=True, \n",
        "                           save_weights_only=False, \n",
        "                           mode='max', \n",
        "                           period=1)\n",
        "\n",
        "earlyStopping = tf.keras.callbacks.EarlyStopping(monitor='val_loss', \n",
        "                              min_delta=0, \n",
        "                              patience=5, \n",
        "                              verbose=1, \n",
        "                              mode='auto', \n",
        "                              baseline=None, \n",
        "                              restore_best_weights=False)\n",
        "\n",
        "reduce_lr_loss = tf.keras.callbacks.ReduceLROnPlateau(monitor='val_loss', \n",
        "                                   factor=0.1, \n",
        "                                   patience=2, \n",
        "                                   verbose=1, \n",
        "                                   mode='min', \n",
        "                                   min_delta=0.0001, \n",
        "                                   cooldown=0, \n",
        "                                   min_lr=0)\n",
        "\n",
        "history = model.fit(X_train,  y_train , \n",
        "                    batch_size=BATCH_SIZE,\n",
        "                    epochs=NUM_EPOCH, verbose=1,\n",
        "                    callbacks=[earlyStopping, mcp_save, reduce_lr_loss],\n",
        "                    validation_data=(X_val, y_val)\n",
        "                   )"
      ],
      "execution_count": 26,
      "outputs": [
        {
          "output_type": "stream",
          "text": [
            "Train on 84003 samples, validate on 24121 samples\n",
            "WARNING:tensorflow:From /usr/local/lib/python3.6/dist-packages/tensorflow/python/ops/math_ops.py:3066: to_int32 (from tensorflow.python.ops.math_ops) is deprecated and will be removed in a future version.\n",
            "Instructions for updating:\n",
            "Use tf.cast instead.\n",
            "Epoch 1/20\n",
            "83968/84003 [============================>.] - ETA: 0s - loss: 2.0993 - categorical_accuracy: 0.5929\n",
            "Epoch 00001: val_categorical_accuracy improved from -inf to 0.76875, saving model to ./news_weights_best.h5\n",
            "84003/84003 [==============================] - 531s 6ms/sample - loss: 2.0989 - categorical_accuracy: 0.5930 - val_loss: 1.1065 - val_categorical_accuracy: 0.7687\n",
            "Epoch 2/20\n",
            "83968/84003 [============================>.] - ETA: 0s - loss: 0.9339 - categorical_accuracy: 0.7753\n",
            "Epoch 00002: val_categorical_accuracy improved from 0.76875 to 0.80411, saving model to ./news_weights_best.h5\n",
            "84003/84003 [==============================] - 524s 6ms/sample - loss: 0.9337 - categorical_accuracy: 0.7753 - val_loss: 0.7558 - val_categorical_accuracy: 0.8041\n",
            "Epoch 3/20\n",
            "83968/84003 [============================>.] - ETA: 0s - loss: 0.6867 - categorical_accuracy: 0.8183\n",
            "Epoch 00003: val_categorical_accuracy improved from 0.80411 to 0.81854, saving model to ./news_weights_best.h5\n",
            "84003/84003 [==============================] - 519s 6ms/sample - loss: 0.6868 - categorical_accuracy: 0.8183 - val_loss: 0.6563 - val_categorical_accuracy: 0.8185\n",
            "Epoch 4/20\n",
            "83968/84003 [============================>.] - ETA: 0s - loss: 0.5856 - categorical_accuracy: 0.8410\n",
            "Epoch 00004: val_categorical_accuracy improved from 0.81854 to 0.82235, saving model to ./news_weights_best.h5\n",
            "84003/84003 [==============================] - 516s 6ms/sample - loss: 0.5857 - categorical_accuracy: 0.8410 - val_loss: 0.6369 - val_categorical_accuracy: 0.8224\n",
            "Epoch 5/20\n",
            "83968/84003 [============================>.] - ETA: 0s - loss: 0.5160 - categorical_accuracy: 0.8592\n",
            "Epoch 00005: val_categorical_accuracy improved from 0.82235 to 0.82754, saving model to ./news_weights_best.h5\n",
            "84003/84003 [==============================] - 515s 6ms/sample - loss: 0.5160 - categorical_accuracy: 0.8592 - val_loss: 0.6301 - val_categorical_accuracy: 0.8275\n",
            "Epoch 6/20\n",
            "83968/84003 [============================>.] - ETA: 0s - loss: 0.4609 - categorical_accuracy: 0.8760\n",
            "Epoch 00006: val_categorical_accuracy did not improve from 0.82754\n",
            "84003/84003 [==============================] - 520s 6ms/sample - loss: 0.4609 - categorical_accuracy: 0.8760 - val_loss: 0.6254 - val_categorical_accuracy: 0.8260\n",
            "Epoch 7/20\n",
            "83968/84003 [============================>.] - ETA: 0s - loss: 0.4125 - categorical_accuracy: 0.8888\n",
            "Epoch 00007: val_categorical_accuracy did not improve from 0.82754\n",
            "84003/84003 [==============================] - 516s 6ms/sample - loss: 0.4124 - categorical_accuracy: 0.8888 - val_loss: 0.6252 - val_categorical_accuracy: 0.8266\n",
            "Epoch 8/20\n",
            "83968/84003 [============================>.] - ETA: 0s - loss: 0.3737 - categorical_accuracy: 0.8998\n",
            "Epoch 00008: val_categorical_accuracy did not improve from 0.82754\n",
            "84003/84003 [==============================] - 519s 6ms/sample - loss: 0.3737 - categorical_accuracy: 0.8997 - val_loss: 0.6490 - val_categorical_accuracy: 0.8245\n",
            "Epoch 9/20\n",
            "83968/84003 [============================>.] - ETA: 0s - loss: 0.3416 - categorical_accuracy: 0.9092\n",
            "Epoch 00009: val_categorical_accuracy did not improve from 0.82754\n",
            "\n",
            "Epoch 00009: ReduceLROnPlateau reducing learning rate to 0.00010000000474974513.\n",
            "84003/84003 [==============================] - 517s 6ms/sample - loss: 0.3416 - categorical_accuracy: 0.9092 - val_loss: 0.6640 - val_categorical_accuracy: 0.8202\n",
            "Epoch 10/20\n",
            "83968/84003 [============================>.] - ETA: 0s - loss: 0.2913 - categorical_accuracy: 0.9249\n",
            "Epoch 00010: val_categorical_accuracy did not improve from 0.82754\n",
            "84003/84003 [==============================] - 518s 6ms/sample - loss: 0.2913 - categorical_accuracy: 0.9249 - val_loss: 0.6595 - val_categorical_accuracy: 0.8229\n",
            "Epoch 11/20\n",
            "83968/84003 [============================>.] - ETA: 0s - loss: 0.2812 - categorical_accuracy: 0.9265\n",
            "Epoch 00011: val_categorical_accuracy did not improve from 0.82754\n",
            "\n",
            "Epoch 00011: ReduceLROnPlateau reducing learning rate to 1.0000000474974514e-05.\n",
            "84003/84003 [==============================] - 526s 6ms/sample - loss: 0.2812 - categorical_accuracy: 0.9265 - val_loss: 0.6612 - val_categorical_accuracy: 0.8226\n",
            "Epoch 12/20\n",
            "83968/84003 [============================>.] - ETA: 0s - loss: 0.2752 - categorical_accuracy: 0.9277\n",
            "Epoch 00012: val_categorical_accuracy did not improve from 0.82754\n",
            "84003/84003 [==============================] - 527s 6ms/sample - loss: 0.2752 - categorical_accuracy: 0.9277 - val_loss: 0.6591 - val_categorical_accuracy: 0.8228\n",
            "Epoch 00012: early stopping\n",
            "CPU times: user 3h 5min 52s, sys: 14min 30s, total: 3h 20min 23s\n",
            "Wall time: 1h 44min 11s\n"
          ],
          "name": "stdout"
        }
      ]
    },
    {
      "cell_type": "code",
      "metadata": {
        "id": "xf-FLiY88Pgz",
        "colab_type": "code",
        "colab": {
          "base_uri": "https://localhost:8080/",
          "height": 404
        },
        "outputId": "a015c1b9-31e9-4d2a-fcc8-8977b1dc1581"
      },
      "source": [
        "plt.figure(figsize=(10, 6))\n",
        "plt.plot(history.history['loss'], linewidth=2, label='Train')\n",
        "plt.plot(history.history['val_loss'], linewidth=2, label='Test')\n",
        "plt.legend(loc='upper right')\n",
        "plt.title('Model loss')\n",
        "plt.ylabel('Loss')\n",
        "plt.xlabel('Epoch')\n",
        "plt.show()"
      ],
      "execution_count": 27,
      "outputs": [
        {
          "output_type": "display_data",
          "data": {
            "image/png": "[encoded data removed]",
            "text/plain": [
              "<Figure size 720x432 with 1 Axes>"
            ]
          },
          "metadata": {
            "tags": []
          }
        }
      ]
    },
    {
      "cell_type": "code",
      "metadata": {
        "id": "K6STf7Vs75LO",
        "colab_type": "code",
        "colab": {
          "base_uri": "https://localhost:8080/",
          "height": 404
        },
        "outputId": "494a5049-cd8c-4396-bc9a-d1eb6721d024"
      },
      "source": [
        "plt.figure(figsize=(10, 6))\n",
        "plt.plot(history.history['categorical_accuracy'], linewidth=2, label='Train')\n",
        "plt.plot(history.history['val_categorical_accuracy'], linewidth=2, label='Test')\n",
        "plt.legend(loc='lower right')\n",
        "plt.title('Categorical Accuracy')\n",
        "plt.ylabel('Accuracy')\n",
        "plt.xlabel('Epoch')\n",
        "plt.show()"
      ],
      "execution_count": 28,
      "outputs": [
        {
          "output_type": "display_data",
          "data": {
            "image/png": "[encoded data removed]",
            "text/plain": [
              "<Figure size 720x432 with 1 Axes>"
            ]
          },
          "metadata": {
            "tags": []
          }
        }
      ]
    },
    {
      "cell_type": "code",
      "metadata": {
        "id": "8QiQMBYWngY2",
        "colab_type": "code",
        "colab": {}
      },
      "source": [
        "model_best = tf.keras.models.load_model(filepath)"
      ],
      "execution_count": 0,
      "outputs": []
    },
    {
      "cell_type": "markdown",
      "metadata": {
        "id": "lHXg3_xlXybX",
        "colab_type": "text"
      },
      "source": [
        "##Model evaluation and prediction"
      ]
    },
    {
      "cell_type": "code",
      "metadata": {
        "id": "aliVIgIhX5N8",
        "colab_type": "code",
        "colab": {
          "base_uri": "https://localhost:8080/",
          "height": 51
        },
        "outputId": "edc7ba90-2bcc-4c23-df0a-c425843e489a"
      },
      "source": [
        "scores = model_best.evaluate(X_test, y_test, batch_size=128, verbose=1)\n",
        "print(dict(zip(model_best.metrics_names, scores)))"
      ],
      "execution_count": 30,
      "outputs": [
        {
          "output_type": "stream",
          "text": [
            "11881/11881 [==============================] - 13s 1ms/sample - loss: 0.6405 - categorical_accuracy: 0.8238\n",
            "{'loss': 0.640532102225435, 'categorical_accuracy': 0.8237522}\n"
          ],
          "name": "stdout"
        }
      ]
    },
    {
      "cell_type": "code",
      "metadata": {
        "id": "DD5R_DBcavH1",
        "colab_type": "code",
        "colab": {
          "base_uri": "https://localhost:8080/",
          "height": 51
        },
        "outputId": "818fd5a2-0505-4fe5-fbd7-f5659c677dac"
      },
      "source": [
        "#For the 10 random samples in the test dataset\n",
        "amount_of_samples = 10\n",
        "indices = np.random.choice(X_test.shape[0], amount_of_samples, replace=False)\n",
        "pred = model_best.predict_classes(X_test[indices].reshape(-1, X_test.shape[1]))\n",
        "print('Predictions:\\t', pred)\n",
        "print('True classes:\\t', np.where(y_test[indices] ==1)[1])"
      ],
      "execution_count": 31,
      "outputs": [
        {
          "output_type": "stream",
          "text": [
            "Predictions:\t [6 0 1 4 0 1 4 1 9 0]\n",
            "True classes:\t [6 0 1 4 0 1 4 1 9 0]\n"
          ],
          "name": "stdout"
        }
      ]
    },
    {
      "cell_type": "code",
      "metadata": {
        "id": "Dw_-K5aFdlj9",
        "colab_type": "code",
        "colab": {
          "base_uri": "https://localhost:8080/",
          "height": 907
        },
        "outputId": "abf6d91e-a1fd-4066-eea3-1e1c2b587f48"
      },
      "source": [
        "for idx, x_test in enumerate(X_test[indices]):\n",
        "  words = [index2word.get(num) for num in x_test]\n",
        "  words = [word for word in words if word != None]\n",
        "  string = ' '.join(words)\n",
        "  print(string)\n",
        "  pred = model_best.predict_classes(x_test.reshape(-1, X_test.shape[1]))[0]\n",
        "  label = np.where(y_test[idx] == 1)[0][0]\n",
        "  print('Prediction:\\t', index_catg[pred])\n",
        "  print('True class:\\t', index_catg[label])\n",
        "  print('\\n')"
      ],
      "execution_count": 32,
      "outputs": [
        {
          "output_type": "stream",
          "text": [
            "workaholic rules for staying out of the emergency room\n",
            "Prediction:\t HEALTHY LIVING\n",
            "True class:\t TRAVEL\n",
            "\n",
            "\n",
            "republican congressman runs ad saying he doesn t like donald trump he doesn t like hillary clinton either\n",
            "Prediction:\t POLITICS\n",
            "True class:\t TRAVEL\n",
            "\n",
            "\n",
            "ways meditation makes you kinder we open our heart to ourselves with tenderness seeing ourselves just as we are maybe for the first time opening with a heart as big as the universe in the same way we open to all others seeing them just as they are without likes or dislikes prejudicing our view\n",
            "Prediction:\t WELLNESS\n",
            "True class:\t POLITICS\n",
            "\n",
            "\n",
            "michelle obama scarlett johansson wear preen in the same week photos rumors recently flew that flotus had banned scarlett and fellow actress kerry washington from the white house for being flirty\n",
            "Prediction:\t STYLE & BEAUTY\n",
            "True class:\t STYLE & BEAUTY\n",
            "\n",
            "\n",
            "john boehner calls harry reid s idea nutso\n",
            "Prediction:\t POLITICS\n",
            "True class:\t ENTERTAINMENT\n",
            "\n",
            "\n",
            "reunion with soul launching love through your gps never ever forget or doubt the difference your gps makes when you rise above self doubt or indifference reclaiming the moment for what needs a voice in your heart\n",
            "Prediction:\t WELLNESS\n",
            "True class:\t WELLNESS\n",
            "\n",
            "\n",
            "counterfeit cashmere clothes containing rat fur exposed if it looks like cashmere and it feels like cashmere it s probably cashmere then again it could also be rat fur want\n",
            "Prediction:\t STYLE & BEAUTY\n",
            "True class:\t WELLNESS\n",
            "\n",
            "\n",
            "don t sweat it my lifelong love hate relationship with exercise after swimming i ll spend a few minutes in the hot tub then have a little schvitz in the sauna the steam hisses and envelops me my body feels well worked as my mind and muscles relax while i may not be the strongest the fastest or the most fit person at the gym at this point i just don t sweat it\n",
            "Prediction:\t WELLNESS\n",
            "True class:\t WELLNESS\n",
            "\n",
            "\n",
            "uber says it will start offering flying taxis in uber says the vehicles will be quiet and have zero operational emissions\n",
            "Prediction:\t BUSINESS\n",
            "True class:\t STYLE & BEAUTY\n",
            "\n",
            "\n",
            "justice department will not retry sen bob menendez the decision follows a hung jury last year and an acquittal on other charges last week\n",
            "Prediction:\t POLITICS\n",
            "True class:\t STYLE & BEAUTY\n",
            "\n",
            "\n"
          ],
          "name": "stdout"
        }
      ]
    }
  ]
}
